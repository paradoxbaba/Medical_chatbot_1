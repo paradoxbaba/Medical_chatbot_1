{
 "cells": [
  {
   "cell_type": "code",
   "execution_count": 1,
   "id": "ca058aa7",
   "metadata": {},
   "outputs": [
    {
     "data": {
      "text/plain": [
       "'d:\\\\Projects\\\\Gen AI\\\\Medical_chatbot_1\\\\research'"
      ]
     },
     "execution_count": 1,
     "metadata": {},
     "output_type": "execute_result"
    }
   ],
   "source": [
    "%pwd"
   ]
  },
  {
   "cell_type": "code",
   "execution_count": 2,
   "id": "7c56c789",
   "metadata": {},
   "outputs": [
    {
     "data": {
      "text/plain": [
       "'d:\\\\Projects\\\\Gen AI\\\\Medical_chatbot_1'"
      ]
     },
     "execution_count": 2,
     "metadata": {},
     "output_type": "execute_result"
    }
   ],
   "source": [
    "import os \n",
    "os.chdir(\"../\")\n",
    "%pwd"
   ]
  },
  {
   "cell_type": "code",
   "execution_count": 3,
   "id": "fb2d7750",
   "metadata": {},
   "outputs": [],
   "source": [
    "from langchain.document_loaders import PyPDFLoader, DirectoryLoader\n",
    "from langchain.text_splitter import RecursiveCharacterTextSplitter"
   ]
  },
  {
   "cell_type": "code",
   "execution_count": 4,
   "id": "7af42029",
   "metadata": {},
   "outputs": [],
   "source": [
    "def load_pdf_files(data):\n",
    "    loader = DirectoryLoader(\n",
    "        data,\n",
    "        glob=\"*.pdf\",\n",
    "        loader_cls=PyPDFLoader\n",
    "    )\n",
    "\n",
    "    documents = loader.load()\n",
    "    return documents"
   ]
  },
  {
   "cell_type": "code",
   "execution_count": 5,
   "id": "377eb72c",
   "metadata": {},
   "outputs": [],
   "source": [
    "extracted_data = load_pdf_files(\"data\")\n"
   ]
  },
  {
   "cell_type": "code",
   "execution_count": 6,
   "id": "22c7e3fc",
   "metadata": {},
   "outputs": [
    {
     "data": {
      "text/plain": [
       "[Document(metadata={'producer': 'PDFlib+PDI 5.0.0 (SunOS)', 'creator': 'PyPDF', 'creationdate': '2004-12-18T17:00:02-05:00', 'moddate': '2004-12-18T16:15:31-06:00', 'source': 'data\\\\Medical_book.pdf', 'total_pages': 637, 'page': 20, 'page_label': '21'}, page_content='the late second or third trimester. Although D&X is high-\\nly controversial, some physicians argue that it has advan-\\ntages that make it a preferable procedure in some circum-\\nstances. One perceived advantage is that the fetus is\\nremoved largely intact, allowing for better evaluation and\\nautopsy of the fetus in cases of known fetal anomalies.\\nIntact removal of the fetus may also confer a lower risk\\nof puncturing the uterus or damaging the cervix. Another\\nperceived advantage is that D&X ends the pregnancy\\nwithout requiring the woman to go through labor, which\\nmay be less emotionally traumatic than other methods of\\nlate-term abortion. In addition, D&X may offer a lower\\ncost and shorter procedure time.\\nPrecautions\\nWomen considering D&X should be aware of the\\nhighly controversial nature of this procedure. A contro-\\nversy common to all late-term abortions is whether the\\nfetus is viable, or able to survive outside of the woman’s\\nbody. A specific area of controversy with D&X is that\\nfetal death does not occur until after most of the fetal\\nbody has exited the uterus. Several states have taken\\nlegal action to limit or ban D&X and many physicians\\nwho perform abortions do not perform D&X. This may\\nrestrict the availability of this procedure to women seek-\\ning late-term abortion.\\nDescription\\nIntact D&X, or partial birth abortion first involves\\nadministration of medications to cause the cervix to\\ndilate, usually over the course of several days. Next, the\\nphysician rotates the fetus to a footling breech position.\\nThe body of the fetus is then drawn out of the uterus feet\\nfirst, until only the head remains inside the uterus. Then,\\nthe physician uses an instrument to puncture the base of\\nthe skull, which collapses the fetal head. Typically, the\\ncontents of the fetal head are then partially suctioned out,\\nwhich results in the death of the fetus, and reduces the\\nsizes of the fetal head enough to allow it to pass through\\nthe cervix. The dead and otherwise intact fetus is then\\nremoved from the woman’s body.\\nPreparation\\nMedical preparation for D&X involves an outpatient\\nvisit to administer medications, such as laminaria ,t o\\ncause the cervix to begin dilating.\\nIn addition, preparation may involve fulfilling local\\nlegal requirements, such as a mandatory waiting period,\\ncounseling, or an informed consent procedure reviewing\\nstages of fetal development, childbirth, alternative abor-\\ntion methods, and adoption.\\nKEY TERMS\\nCervix—The narrow outer end of the uterus that\\nseparates the uterus from the vaginal canal.\\nFootling breech —A position of the fetus while in\\nthe uterus where the feet of the fetus are nearest\\nthe cervix would be the first part of the fetus to exit\\nthe uterus, with the head of the fetus being the last\\npart to exit the uterus.\\nLaminaria —A medical product made from a cer-\\ntain type of seaweed that is physically placed near\\nthe cervix to cause it to dilate.\\nAftercare\\nD&X typically does not require an overnight hospi-\\ntal stay, so a follow up appointment may be scheduled to\\nmonitor the woman for any complications.\\nRisks\\nWith all abortion, the later in pregnancy an abortion\\nis performed, the more complicated the procedure and\\nthe greater the risk of injury to the woman. In addition to\\nassociated emotion reactions, D&X carries the risk of\\ninjury to the woman, including heavy bleeding, blood\\nclots, damage to the cervix or uterus, pelvic infection,\\nand anesthesia-related complications. There is also a risk\\nof incomplete abortion, meaning that the fetus is not\\ndead when removed from the woman’s body. Possible\\nlong-term risks include difficulty becoming pregnant or\\ncarrying a future pregnancy to term.\\nNormal results\\nThe expected outcome of D&X is the termination of\\na pregnancy with removal of a dead fetus from the\\nwoman’s body.\\nResources\\nPERIODICALS\\nEpner, Janet E., et al. “Late-term Abortion.”JAMA 280, no. 8\\n(26 August 1998): 724-729.\\nSprang, M. LeRoy, and Neerhof, Mark G. “Rationale for Ban-\\nning Abortions Late in Pregnancy.”JAMA (26 August\\n1998): 744-747.\\nSwomley, John M. “The ‘Partial-birth’ Debate in 1998.”\\nHumanist (March/April 1998): 5-7.\\nGrimes, David A. “The Continuing Need for Late Abortion.”\\nJAMA (26 August 1998): 747-750.\\nGALE ENCYCLOPEDIA OF MEDICINE 2 7\\nAbortion, partial birth\\nGEM - 0001 to 0432 - A  10/22/03 1:41 PM  Page 7'),\n",
       " Document(metadata={'producer': 'PDFlib+PDI 5.0.0 (SunOS)', 'creator': 'PyPDF', 'creationdate': '2004-12-18T17:00:02-05:00', 'moddate': '2004-12-18T16:15:31-06:00', 'source': 'data\\\\Medical_book.pdf', 'total_pages': 637, 'page': 21, 'page_label': '22'}, page_content='ORGANIZATIONS\\nPlanned Parenthood Federation of America. 810 Seventh Ave.,\\nNew York, NY 10019. (212) 541-7800. FAX: (212) 245-\\n1845.\\nOTHER\\nStatus of partial-birth abortion laws in the states. Othmer Insti-\\ntute at Planned Parenthood of NYC. 2000.\\nStefanie B. N. Dugan, M.S.\\nAbortion, selective\\nDefinition\\nSelective abortion, also known as selective reduc-\\ntion, refers to choosing to abort a fetus, typically in a\\nmulti-fetal pregnancy, to decrease the health risks to the\\nmother in carrying and giving birth to more than one or\\ntwo babies, and also to decrease the risk of complications\\nto the remaining fetus(es). The term selective abortion\\nalso refers to choosing to abort a fetus for reasons such as\\nthe woman is carrying a fetus which likely will be born\\nwith some birth defect or impairment, or because the sex\\nof the fetus is not preferred by the individual.\\nPurpose\\nA woman may decide to abort for health reasons, for\\nexample, she is at higher risk for complications during preg-\\nnancy because of a disorder or disease such as diabetes.\\nHowever, selective reduction is recommended often in\\ncases of multi-fetal pregnancy, or the presence of more than\\none fetus, typically, at least three or more fetuses. In the\\ngeneral population, multi-fetal pregnancy happens in only\\nabout 1-2% of pregnant women. But multi-fetal pregnan-\\ncies occur far more often in women using fertility drugs.\\nPrecautions\\nBecause women or couples who use fertility drugs\\nhave made an extra effort to become pregnant, it is possi-\\nble that the individuals may be unwilling or uncomfort-\\nable with the decision to abort a fetus in cases of multi-\\nfetal pregnancy. Individuals engaging in fertility treat-\\nment should be made aware of the risk of multi-fetal\\npregnancy and consider the prospect of recommended\\nreduction before undergoing fertility treatment.\\nDescription\\nSelective reduction is usually performed between\\nnine and 12 weeks of pregnancy and is most successful\\nwhen performed in early pregnancy. It is a simple proce-\\ndure and can be performed on an outpatient basis. A nee-\\ndle is inserted into the woman’s stomach or vagina and\\npotassium chloride is injected into the fetus.\\nPreparation\\nIndividuals who have chosen selective reduction to\\nsafeguard the remaining fetuses should be counseled\\nprior to the procedure. Individuals should receive infor-\\nmation regarding the risks of a multi-fetal pregnancy to\\nboth the fetuses and the mother compared with the risks\\nafter the reduction.\\nIndividuals seeking an abortion for any reason\\nshould consider the ethical implications whether it be\\nbecause the fetus is not the preferred sex or because the\\nfetus would be born with a severe birth defect.\\nAftercare\\nCounseling should continue after the abortion\\nbecause it is a traumatic event. Individuals may feel\\nguilty about choosing one fetus over another. Mental\\nhealth professionals should be consulted throughout the\\nprocess.\\nRisks\\nAbout 75% of women who undergo selective reduc-\\ntion will go into premature labor . About 4-5% of\\nwomen undergoing selective reduction also miscarry one\\nor more of the remaining fetuses. The risks associated\\nwith multi-fetal pregnancy is considered higher.\\nNormal results\\nIn cases where a multi-fetal pregnancy, three or\\nmore fetuses, is reduced to two, the twin fetuses typically\\ndevelop as they would as if they were conceived as twins.\\nResources\\nBOOKS\\nKnobil, Ernst and Jimmy D. Neill, editors. “Abortion.” In\\nEncyclopedia of Reproduction. San Diego: Adademic\\nPress, 1998, pp.1-5.\\nScott, James R., editor. “Induced Abortion.” In Danforth’s\\nObstetrics and Gynecology. Philadelphia: Lippincott\\nWilliams & Wilkins, 1999, pp.567-578.\\nPERIODICALS\\nAuthor unspecified. “Multiple Pregnancy Associated With\\nInfertility Therapy.”American Society for Reproductive\\nMedicine, A Practice Committee Report (November\\n2000): 1-8.\\nGALE ENCYCLOPEDIA OF MEDICINE 28\\nAbortion, selective\\nGEM - 0001 to 0432 - A  10/22/03 1:41 PM  Page 8'),\n",
       " Document(metadata={'producer': 'PDFlib+PDI 5.0.0 (SunOS)', 'creator': 'PyPDF', 'creationdate': '2004-12-18T17:00:02-05:00', 'moddate': '2004-12-18T16:15:31-06:00', 'source': 'data\\\\Medical_book.pdf', 'total_pages': 637, 'page': 22, 'page_label': '23'}, page_content='ORGANIZATIONS\\nThe American Society for Reproductive Medicine. 1209 Mont-\\ngomery Highway, Birmingham, AL 35216-2809. (205)\\n978-5000. <http://www.asrm.org>.\\nThe Alan Guttmacher Institute. 120 Wall Street, New York, NY\\n10005. (212) 248-1111. <http://www.agi-usa.org>.\\nMeghan M. Gourley\\nAbortion, spontaneous see Miscarriage\\nAbortion, therapeutic\\nDefinition\\nTherapeutic abortion is the intentional termination\\nof a pregnancy before the fetus can live independently.\\nAbortion has been a legal procedure in the United States\\nsince 1973.\\nPurpose\\nAn abortion may be performed whenever there is\\nsome compelling reason to end a pregnancy. Women\\nhave abortions because continuing the pregnancy would\\ncause them hardship, endanger their life or health, or\\nbecause prenatal testing has shown that the fetus will be\\nborn with severe abnormalities.\\nAbortions are safest when performed within the first\\nsix to 10 weeks after the last menstrual period. The cal-\\nculation of this date is referred to as the gestational age\\nand is used in determining the stage of pregnancy. For\\nexample, a woman who is two weeks late having her\\nperiod is said to be six weeks pregnant, because it is six\\nweeks since she last menstruated.\\nAbout 90% of women who have abortions do so\\nbefore 13 weeks and experience few complications.\\nAbortions performed between 13-24 weeks have a higher\\nKEY TERMS\\nMulti-fetal pregnancy —A pregnancy of two or\\nmore fetuses.\\nSelective reduction—Typically referred to in cases\\nof multifetal pregnancy, when one or more fetuses\\nare aborted to preserve the viability of the remain-\\ning fetuses and decrease health risks to the mother.\\nrate of complications. Abortions after 24 weeks are\\nextremely rare and are usually limited to situations where\\nthe life of the mother is in danger.\\nPrecautions\\nMost women are able to have abortions at clinics or\\noutpatient facilities if the procedure is performed early in\\npregnancy. Women who have stable diabetes, controlled\\nepilepsy, mild to moderate high blood pressure, or who\\nare HIV positive can often have abortions as outpatients\\nif precautions are taken. Women with heart disease, pre-\\nvious endocarditis, asthma, lupus erythematosus, uter-\\nine fibroid tumors, blood clotting disorders, poorly con-\\ntrolled epilepsy, or some psychological disorders usually\\nneed to be hospitalized in order to receive special moni-\\ntoring and medications during the procedure.\\nDescription\\nV ery early abortions\\nBetween five and seven weeks, a pregnancy can be\\nended by a procedure called menstrual extraction. This\\nprocedure is also sometimes called menstrual regulation,\\nmini-suction, or preemptive abortion. The contents of the\\nuterus are suctioned out through a thin (3-4 mm) plastic\\ntube that is inserted through the undilated cervix. Suction\\nis applied either by a bulb syringe or a small pump.\\nAnother method is called the “morning after” pill, or\\nemergency contraception . Basically, it involves taking\\nhigh doses of birth control pills within 24 to 48 hours of\\nhaving unprotected sex. The high doses of hormones\\ncauses the uterine lining to change so that it will not sup-\\nport a pregnancy. Thus, if the egg has been fertilized, it is\\nsimply expelled from the body.\\nThere are two types of emergency contraception.\\nOne type is identical to ordinary birth control pills, and\\nuses the hormones estrogen and progestin). This type is\\navailable with a prescription under the brand name Pre-\\nven. But women can even use their regular birth control\\npills for emergency contraception, after they check with\\ntheir doctor about the proper dose. About half of women\\nwho use birth control pills for emergency contraception\\nget nauseated and 20 percent vomit. This method cuts the\\nrisk of pregnancy 75 percent.\\nThe other type of morning-after pill contains only\\none hormone: progestin, and is available under the brand\\nname Plan B. It is more effective than the first type with\\na lower risk of nausea and vomiting. It reduces the risk\\nof pregnancy 89 percent.\\nWomen should check with their physicians regard-\\ning the proper dose of pills to take, as it depends on the\\nGALE ENCYCLOPEDIA OF MEDICINE 2 9\\nAbortion, therapeutic\\nGEM - 0001 to 0432 - A  10/22/03 1:41 PM  Page 9')]"
      ]
     },
     "execution_count": 6,
     "metadata": {},
     "output_type": "execute_result"
    }
   ],
   "source": [
    "extracted_data[20:23]"
   ]
  },
  {
   "cell_type": "code",
   "execution_count": 7,
   "id": "42889cff",
   "metadata": {},
   "outputs": [],
   "source": [
    "#Split the Data into Text Chunks\n",
    "def text_split(extracted_data):\n",
    "    text_splitter=RecursiveCharacterTextSplitter(chunk_size=500, chunk_overlap=20)\n",
    "    text_chunks=text_splitter. split_documents(extracted_data)\n",
    "    return text_chunks\n",
    "\n",
    "text_chunks = text_split(extracted_data)"
   ]
  },
  {
   "cell_type": "code",
   "execution_count": 8,
   "id": "4a4f90b0",
   "metadata": {},
   "outputs": [
    {
     "name": "stderr",
     "output_type": "stream",
     "text": [
      "C:\\Users\\anime\\AppData\\Local\\Temp\\ipykernel_26976\\3442840130.py:8: LangChainDeprecationWarning: The class `HuggingFaceEmbeddings` was deprecated in LangChain 0.2.2 and will be removed in 1.0. An updated version of the class exists in the :class:`~langchain-huggingface package and should be used instead. To use it run `pip install -U :class:`~langchain-huggingface` and import as `from :class:`~langchain_huggingface import HuggingFaceEmbeddings``.\n",
      "  embeddings = HuggingFaceEmbeddings(\n",
      "d:\\Projects\\Gen AI\\Medical_chatbot_1\\genai_venv\\Lib\\site-packages\\tqdm\\auto.py:21: TqdmWarning: IProgress not found. Please update jupyter and ipywidgets. See https://ipywidgets.readthedocs.io/en/stable/user_install.html\n",
      "  from .autonotebook import tqdm as notebook_tqdm\n"
     ]
    },
    {
     "data": {
      "text/plain": [
       "HuggingFaceEmbeddings(client=SentenceTransformer(\n",
       "  (0): Transformer({'max_seq_length': 256, 'do_lower_case': False}) with Transformer model: BertModel \n",
       "  (1): Pooling({'word_embedding_dimension': 384, 'pooling_mode_cls_token': False, 'pooling_mode_mean_tokens': True, 'pooling_mode_max_tokens': False, 'pooling_mode_mean_sqrt_len_tokens': False, 'pooling_mode_weightedmean_tokens': False, 'pooling_mode_lasttoken': False, 'include_prompt': True})\n",
       "  (2): Normalize()\n",
       "), model_name='sentence-transformers/all-MiniLM-L6-v2', cache_folder=None, model_kwargs={}, encode_kwargs={}, multi_process=False, show_progress=False)"
      ]
     },
     "execution_count": 8,
     "metadata": {},
     "output_type": "execute_result"
    }
   ],
   "source": [
    "from langchain.embeddings import HuggingFaceEmbeddings\n",
    "\n",
    "def download_embeddings():\n",
    "    \"\"\"\n",
    "    Download and return the HuggingFace embeddings model.\n",
    "    \"\"\"\n",
    "    model_name = \"sentence-transformers/all-MiniLM-L6-v2\"\n",
    "    embeddings = HuggingFaceEmbeddings(\n",
    "        model_name=model_name\n",
    "    )\n",
    "    return embeddings\n",
    "\n",
    "embedding = download_embeddings()\n",
    "embedding"
   ]
  },
  {
   "cell_type": "code",
   "execution_count": 9,
   "id": "af973de9",
   "metadata": {},
   "outputs": [
    {
     "data": {
      "text/plain": [
       "True"
      ]
     },
     "execution_count": 9,
     "metadata": {},
     "output_type": "execute_result"
    }
   ],
   "source": [
    "from dotenv import load_dotenv\n",
    "import os\n",
    "load_dotenv()"
   ]
  },
  {
   "cell_type": "code",
   "execution_count": 10,
   "id": "9177cee2",
   "metadata": {},
   "outputs": [],
   "source": [
    "PINECONE_API_KEY = os.getenv(\"PINECONE_API_KEY\")\n",
    "OPENAI_API_KEY = os.getenv(\"OPENAI_API_KEY\")\n",
    "OPENROUTER_API_KEY = os.getenv(\"OPENROUTER_API_KEY\")"
   ]
  },
  {
   "cell_type": "code",
   "execution_count": 11,
   "id": "d248c451",
   "metadata": {},
   "outputs": [
    {
     "data": {
      "text/plain": [
       "<pinecone.pinecone.Pinecone at 0x1c793089750>"
      ]
     },
     "execution_count": 11,
     "metadata": {},
     "output_type": "execute_result"
    }
   ],
   "source": [
    "from pinecone import Pinecone\n",
    "pinecone_api_key = PINECONE_API_KEY\n",
    "pc = Pinecone(api_key=pinecone_api_key)\n",
    "pc"
   ]
  },
  {
   "cell_type": "code",
   "execution_count": 12,
   "id": "8fac2279",
   "metadata": {},
   "outputs": [],
   "source": [
    "from pinecone import ServerlessSpec\n",
    "\n",
    "index_name = \"medical-chatbot-1\"\n",
    "\n",
    "if not pc.has_index(index_name):\n",
    "    pc.create_index(\n",
    "        name = index_name,\n",
    "        dimension=384,  # Dimension of the embeddings\n",
    "        metric= \"cosine\",  # Cosine similarity\n",
    "        spec=ServerlessSpec(cloud=\"aws\", region=\"us-east-1\")\n",
    "    )\n",
    "\n",
    "\n",
    "index = pc.Index(index_name)\n"
   ]
  },
  {
   "cell_type": "code",
   "execution_count": 13,
   "id": "92478e14",
   "metadata": {},
   "outputs": [],
   "source": [
    "from langchain_pinecone import PineconeVectorStore\n",
    "\n",
    "docsearch = PineconeVectorStore.from_documents(\n",
    "    documents=text_chunks,\n",
    "    embedding=embedding,\n",
    "    index_name=index_name\n",
    ")"
   ]
  },
  {
   "cell_type": "code",
   "execution_count": 14,
   "id": "a60af64b",
   "metadata": {},
   "outputs": [
    {
     "name": "stdout",
     "output_type": "stream",
     "text": [
      "['__abstractmethods__', '__annotations__', '__class__', '__delattr__', '__dict__', '__dir__', '__doc__', '__eq__', '__format__', '__ge__', '__getattribute__', '__getstate__', '__gt__', '__hash__', '__init__', '__init_subclass__', '__le__', '__lt__', '__module__', '__ne__', '__new__', '__reduce__', '__reduce_ex__', '__repr__', '__setattr__', '__sizeof__', '__slots__', '__str__', '__subclasshook__', '__weakref__', '_abc_impl', '_asimilarity_search_with_relevance_scores', '_async_index', '_cosine_relevance_score_fn', '_embedding', '_euclidean_relevance_score_fn', '_get_retriever_tags', '_index', '_index_host', '_max_inner_product_relevance_score_fn', '_namespace', '_pinecone_api_key', '_select_relevance_score_fn', '_similarity_search_with_relevance_scores', '_text_key', 'aadd_documents', 'aadd_texts', 'add_documents', 'add_texts', 'adelete', 'afrom_documents', 'afrom_texts', 'aget_by_ids', 'amax_marginal_relevance_search', 'amax_marginal_relevance_search_by_vector', 'as_retriever', 'asearch', 'asimilarity_search', 'asimilarity_search_by_vector', 'asimilarity_search_by_vector_with_score', 'asimilarity_search_with_relevance_scores', 'asimilarity_search_with_score', 'async_index', 'delete', 'distance_strategy', 'embeddings', 'from_documents', 'from_existing_index', 'from_texts', 'get_by_ids', 'get_pinecone_index', 'index', 'max_marginal_relevance_search', 'max_marginal_relevance_search_by_vector', 'search', 'similarity_search', 'similarity_search_by_vector', 'similarity_search_by_vector_with_score', 'similarity_search_with_relevance_scores', 'similarity_search_with_score']\n",
      "{'dimension': 384,\n",
      " 'index_fullness': 0.0,\n",
      " 'metric': 'cosine',\n",
      " 'namespaces': {'': {'vector_count': 17577}},\n",
      " 'total_vector_count': 17577,\n",
      " 'vector_type': 'dense'}\n"
     ]
    }
   ],
   "source": [
    "print(dir(docsearch))\n",
    "docsearch_index = docsearch._index  # this is the actual Pinecone index\n",
    "print(docsearch_index.describe_index_stats())\n"
   ]
  },
  {
   "cell_type": "code",
   "execution_count": 15,
   "id": "1aae3627",
   "metadata": {},
   "outputs": [],
   "source": [
    "retriever = docsearch.as_retriever(search_type=\"similarity_score_threshold\", search_kwargs={\"score_threshold\": 0.75})"
   ]
  },
  {
   "cell_type": "code",
   "execution_count": 16,
   "id": "ed956b45",
   "metadata": {},
   "outputs": [
    {
     "data": {
      "text/plain": [
       "[Document(id='f525bbd9-d8b5-401a-9b6b-64e0d98de5a1', metadata={'creationdate': '2004-12-18T17:00:02-05:00', 'creator': 'PyPDF', 'moddate': '2004-12-18T16:15:31-06:00', 'page': 226.0, 'page_label': '227', 'producer': 'PDFlib+PDI 5.0.0 (SunOS)', 'source': 'data\\\\Medical_book.pdf', 'total_pages': 637.0}, page_content='tives to clear the stomach and intestines after a\\nbinge.\\nRussell’s sign—Scraped or raw areas on the patient’s\\nknuckles, caused by self-induced vomiting.\\nSuperior mesenteric artery syndrome —A condi-\\ntion in which a person vomits after meals due to\\nblockage of the blood supply to the intestine.\\nBaron, Robert B. “Nutrition.” In Current Medical Diagnosis\\nand Treatment, 1998.37th ed. Ed. Stephen McPhee, et al.\\nStamford: Appleton & Lange, 1997.'),\n",
       " Document(id='f1aa4199-a70a-4932-941e-d68764c162a6', metadata={'creationdate': '2004-12-18T17:00:02-05:00', 'creator': 'PyPDF', 'moddate': '2004-12-18T16:15:31-06:00', 'page': 226.0, 'page_label': '227', 'producer': 'PDFlib+PDI 5.0.0 (SunOS)', 'source': 'data\\\\Medical_book.pdf', 'total_pages': 637.0}, page_content='tives to clear the stomach and intestines after a\\nbinge.\\nRussell’s sign—Scraped or raw areas on the patient’s\\nknuckles, caused by self-induced vomiting.\\nSuperior mesenteric artery syndrome —A condi-\\ntion in which a person vomits after meals due to\\nblockage of the blood supply to the intestine.\\nBaron, Robert B. “Nutrition.” In Current Medical Diagnosis\\nand Treatment, 1998.37th ed. Ed. Stephen McPhee, et al.\\nStamford: Appleton & Lange, 1997.'),\n",
       " Document(id='cc25e466-d7a7-4cea-ad8a-5e9f47c96b84', metadata={'creationdate': '2004-12-18T17:00:02-05:00', 'creator': 'PyPDF', 'moddate': '2004-12-18T16:15:31-06:00', 'page': 226.0, 'page_label': '227', 'producer': 'PDFlib+PDI 5.0.0 (SunOS)', 'source': 'data\\\\Medical_book.pdf', 'total_pages': 637.0}, page_content='tives to clear the stomach and intestines after a\\nbinge.\\nRussell’s sign—Scraped or raw areas on the patient’s\\nknuckles, caused by self-induced vomiting.\\nSuperior mesenteric artery syndrome —A condi-\\ntion in which a person vomits after meals due to\\nblockage of the blood supply to the intestine.\\nBaron, Robert B. “Nutrition.” In Current Medical Diagnosis\\nand Treatment, 1998.37th ed. Ed. Stephen McPhee, et al.\\nStamford: Appleton & Lange, 1997.'),\n",
       " Document(id='3b956aad-4ee6-467f-a6f9-fc2a4872aa0c', metadata={'creationdate': '2004-12-18T17:00:02-05:00', 'creator': 'PyPDF', 'moddate': '2004-12-18T16:15:31-06:00', 'page': 225.0, 'page_label': '226', 'producer': 'PDFlib+PDI 5.0.0 (SunOS)', 'source': 'data\\\\Medical_book.pdf', 'total_pages': 637.0}, page_content='digestive tract, and a condition called superior mesenteric\\nartery syndrome. Persons with this condition sometimes\\nvomit after meals because the blood supply to the intes-\\ntine is blocked. The doctor will usually order blood tests,\\nan electrocardiogram, urinalysis, and bone densitometry\\n(bone density test) in order to exclude other diseases and\\nto assess the patient’s nutritional status.\\nThe doctor will also need to distinguish between\\nanorexia and other psychiatric disorders, including depres-')]"
      ]
     },
     "execution_count": 16,
     "metadata": {},
     "output_type": "execute_result"
    }
   ],
   "source": [
    "retrieved_docs = retriever.invoke(\"information about vomiting\")\n",
    "retrieved_docs"
   ]
  },
  {
   "cell_type": "code",
   "execution_count": 17,
   "id": "6d81b47f",
   "metadata": {},
   "outputs": [
    {
     "name": "stdout",
     "output_type": "stream",
     "text": [
      "Sending request...\n",
      "Response: Hello! I'm working fine. 😊  \n",
      "\n",
      "I'm not coming from OpenRouter—I'm hosted directly by DeepSeek. Let me know how I can help! 🚀\n"
     ]
    }
   ],
   "source": [
    "import os\n",
    "from dotenv import load_dotenv\n",
    "from langchain_openai import ChatOpenAI\n",
    "\n",
    "load_dotenv()\n",
    "\n",
    "chatModel = ChatOpenAI(\n",
    "    model=\"deepseek/deepseek-chat\",    # ✅ safe working model\n",
    "    api_key=OPENROUTER_API_KEY,\n",
    "    base_url=\"https://openrouter.ai/api/v1\",\n",
    "    timeout=30,                        # ⏱ fail fast instead of hanging forever\n",
    "    max_retries=1,                     # no endless retries\n",
    "    default_headers={\n",
    "        \"HTTP-Referer\": \"http://localhost:8501\",\n",
    "        \"X-Title\": \"Medical Chatbot 1\"\n",
    "    },\n",
    ")\n",
    "\n",
    "print(\"Sending request...\")\n",
    "resp = chatModel.invoke(\"Quick test: say hello if you're working! And tell me are you coming from OpenRouter, if no then from where?\")\n",
    "print(\"Response:\", resp.content)\n"
   ]
  },
  {
   "cell_type": "code",
   "execution_count": 18,
   "id": "bd5ed2ad",
   "metadata": {},
   "outputs": [],
   "source": [
    "from langchain.chains import create_retrieval_chain\n",
    "from langchain.chains.combine_documents import create_stuff_documents_chain\n",
    "from langchain_core.prompts import ChatPromptTemplate"
   ]
  },
  {
   "cell_type": "code",
   "execution_count": 19,
   "id": "a59c4da9",
   "metadata": {},
   "outputs": [],
   "source": [
    "system_prompt = (\n",
    "    \"You are an First-Aid Medical assistant for question-answering tasks. \"\n",
    "    \"Use the following pieces of retrieved context to answer the question. If you don't know the answer, say that you don't know. Keep the answer concise.\"\n",
    "    \"\\n\\n\"\n",
    "    \"{context}\"\n",
    ")\n",
    "\n",
    "\n",
    "prompt = ChatPromptTemplate.from_messages(\n",
    "    [\n",
    "        (\"system\", system_prompt),\n",
    "        (\"human\", \"{input}\"),\n",
    "    ]\n",
    ")"
   ]
  },
  {
   "cell_type": "code",
   "execution_count": 20,
   "id": "9b968fe1",
   "metadata": {},
   "outputs": [],
   "source": [
    "question_answer_chain = create_stuff_documents_chain(chatModel, prompt)\n",
    "rag_chain = create_retrieval_chain(retriever, question_answer_chain)"
   ]
  },
  {
   "cell_type": "code",
   "execution_count": 21,
   "id": "167bee2c",
   "metadata": {},
   "outputs": [
    {
     "name": "stdout",
     "output_type": "stream",
     "text": [
      "Sore tonsils, often due to acute tonsillitis, can be caused by viral or bacterial infections (e.g., cold viruses, strep throat, or mononucleosis). Symptoms include pain, redness, and swelling. Warm saline gargles may help alleviate discomfort. Prompt evaluation and treatment of sore throats can prevent complications. If symptoms persist or cause breathing difficulties, medical intervention may be needed.\n"
     ]
    }
   ],
   "source": [
    "response = rag_chain.invoke({\"input\": \"information about sore tonsils\"})\n",
    "print(response[\"answer\"])"
   ]
  },
  {
   "cell_type": "code",
   "execution_count": null,
   "id": "f4eb1e1c",
   "metadata": {},
   "outputs": [],
   "source": []
  }
 ],
 "metadata": {
  "kernelspec": {
   "display_name": "genai_venv",
   "language": "python",
   "name": "python3"
  },
  "language_info": {
   "codemirror_mode": {
    "name": "ipython",
    "version": 3
   },
   "file_extension": ".py",
   "mimetype": "text/x-python",
   "name": "python",
   "nbconvert_exporter": "python",
   "pygments_lexer": "ipython3",
   "version": "3.11.9"
  }
 },
 "nbformat": 4,
 "nbformat_minor": 5
}
